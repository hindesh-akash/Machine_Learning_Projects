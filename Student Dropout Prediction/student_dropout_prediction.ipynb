{
 "cells": [
  {
   "cell_type": "code",
   "execution_count": 1,
   "id": "16c9d5c9",
   "metadata": {
    "_cell_guid": "b1076dfc-b9ad-4769-8c92-a6c4dae69d19",
    "_uuid": "8f2839f25d086af736a60e9eeb907d3b93b6e0e5",
    "execution": {
     "iopub.execute_input": "2022-09-11T17:00:32.996415Z",
     "iopub.status.busy": "2022-09-11T17:00:32.995794Z",
     "iopub.status.idle": "2022-09-11T17:00:33.011758Z",
     "shell.execute_reply": "2022-09-11T17:00:33.010618Z"
    },
    "papermill": {
     "duration": 0.042712,
     "end_time": "2022-09-11T17:00:33.015826",
     "exception": false,
     "start_time": "2022-09-11T17:00:32.973114",
     "status": "completed"
    },
    "tags": []
   },
   "outputs": [
    {
     "name": "stdout",
     "output_type": "stream",
     "text": [
      "/kaggle/input/students-drop-out-prediction/train.csv\n",
      "/kaggle/input/students-drop-out-prediction/test.csv\n"
     ]
    }
   ],
   "source": [
    "# This Python 3 environment comes with many helpful analytics libraries installed\n",
    "# It is defined by the kaggle/python Docker image: https://github.com/kaggle/docker-python\n",
    "# For example, here's several helpful packages to load\n",
    "\n",
    "import numpy as np # linear algebra\n",
    "import pandas as pd # data processing, CSV file I/O (e.g. pd.read_csv)\n",
    "\n",
    "# Input data files are available in the read-only \"../input/\" directory\n",
    "# For example, running this (by clicking run or pressing Shift+Enter) will list all files under the input directory\n",
    "\n",
    "import os\n",
    "for dirname, _, filenames in os.walk('/kaggle/input'):\n",
    "    for filename in filenames:\n",
    "        print(os.path.join(dirname, filename))\n",
    "\n",
    "# You can write up to 20GB to the current directory (/kaggle/working/) that gets preserved as output when you create a version using \"Save & Run All\" \n",
    "# You can also write temporary files to /kaggle/temp/, but they won't be saved outside of the current session"
   ]
  },
  {
   "cell_type": "markdown",
   "id": "10b2f381",
   "metadata": {
    "papermill": {
     "duration": 0.018148,
     "end_time": "2022-09-11T17:00:33.054024",
     "exception": false,
     "start_time": "2022-09-11T17:00:33.035876",
     "status": "completed"
    },
    "tags": []
   },
   "source": [
    "Loading the Dataset"
   ]
  },
  {
   "cell_type": "code",
   "execution_count": 2,
   "id": "2e0a0adf",
   "metadata": {
    "execution": {
     "iopub.execute_input": "2022-09-11T17:00:33.093947Z",
     "iopub.status.busy": "2022-09-11T17:00:33.093091Z",
     "iopub.status.idle": "2022-09-11T17:00:33.150292Z",
     "shell.execute_reply": "2022-09-11T17:00:33.149359Z"
    },
    "papermill": {
     "duration": 0.080323,
     "end_time": "2022-09-11T17:00:33.153128",
     "exception": false,
     "start_time": "2022-09-11T17:00:33.072805",
     "status": "completed"
    },
    "tags": []
   },
   "outputs": [],
   "source": [
    "\n",
    "data_train=pd.read_csv('../input/students-drop-out-prediction/train.csv')\n",
    "data_test=pd.read_csv('../input/students-drop-out-prediction/test.csv')\n"
   ]
  },
  {
   "cell_type": "code",
   "execution_count": 3,
   "id": "3dfe6620",
   "metadata": {
    "execution": {
     "iopub.execute_input": "2022-09-11T17:00:33.190732Z",
     "iopub.status.busy": "2022-09-11T17:00:33.190342Z",
     "iopub.status.idle": "2022-09-11T17:00:33.199809Z",
     "shell.execute_reply": "2022-09-11T17:00:33.198643Z"
    },
    "papermill": {
     "duration": 0.031021,
     "end_time": "2022-09-11T17:00:33.202226",
     "exception": false,
     "start_time": "2022-09-11T17:00:33.171205",
     "status": "completed"
    },
    "tags": []
   },
   "outputs": [
    {
     "data": {
      "text/plain": [
       "(3796, 43)"
      ]
     },
     "execution_count": 3,
     "metadata": {},
     "output_type": "execute_result"
    }
   ],
   "source": [
    "data_train.shape"
   ]
  },
  {
   "cell_type": "code",
   "execution_count": 4,
   "id": "9eab406d",
   "metadata": {
    "execution": {
     "iopub.execute_input": "2022-09-11T17:00:33.240838Z",
     "iopub.status.busy": "2022-09-11T17:00:33.240054Z",
     "iopub.status.idle": "2022-09-11T17:00:33.246905Z",
     "shell.execute_reply": "2022-09-11T17:00:33.246005Z"
    },
    "papermill": {
     "duration": 0.028591,
     "end_time": "2022-09-11T17:00:33.249141",
     "exception": false,
     "start_time": "2022-09-11T17:00:33.220550",
     "status": "completed"
    },
    "tags": []
   },
   "outputs": [
    {
     "data": {
      "text/plain": [
       "(1628, 42)"
      ]
     },
     "execution_count": 4,
     "metadata": {},
     "output_type": "execute_result"
    }
   ],
   "source": [
    "data_test.shape"
   ]
  },
  {
   "cell_type": "code",
   "execution_count": 5,
   "id": "8e3f620f",
   "metadata": {
    "execution": {
     "iopub.execute_input": "2022-09-11T17:00:33.287930Z",
     "iopub.status.busy": "2022-09-11T17:00:33.287120Z",
     "iopub.status.idle": "2022-09-11T17:00:33.315398Z",
     "shell.execute_reply": "2022-09-11T17:00:33.313771Z"
    },
    "papermill": {
     "duration": 0.050835,
     "end_time": "2022-09-11T17:00:33.318220",
     "exception": false,
     "start_time": "2022-09-11T17:00:33.267385",
     "status": "completed"
    },
    "tags": []
   },
   "outputs": [
    {
     "name": "stdout",
     "output_type": "stream",
     "text": [
      "<class 'pandas.core.frame.DataFrame'>\n",
      "RangeIndex: 3796 entries, 0 to 3795\n",
      "Data columns (total 43 columns):\n",
      " #   Column  Non-Null Count  Dtype  \n",
      "---  ------  --------------  -----  \n",
      " 0   id      3796 non-null   int64  \n",
      " 1   v_21    3796 non-null   int64  \n",
      " 2   v_32    3796 non-null   int64  \n",
      " 3   v_15    3796 non-null   int64  \n",
      " 4   v_4     3796 non-null   int64  \n",
      " 5   v_1     3796 non-null   int64  \n",
      " 6   v_8     3796 non-null   int64  \n",
      " 7   v_12    3796 non-null   int64  \n",
      " 8   v_25    3796 non-null   int64  \n",
      " 9   v_20    3796 non-null   int64  \n",
      " 10  v_18    3796 non-null   int64  \n",
      " 11  v_3     3796 non-null   int64  \n",
      " 12  v_11    3796 non-null   int64  \n",
      " 13  v_14    3796 non-null   int64  \n",
      " 14  v_26    3796 non-null   int64  \n",
      " 15  v_27    3796 non-null   int64  \n",
      " 16  v_30    3796 non-null   int64  \n",
      " 17  v_9     3796 non-null   int64  \n",
      " 18  v_31    3796 non-null   int64  \n",
      " 19  v_28    3796 non-null   int64  \n",
      " 20  v_13    3796 non-null   int64  \n",
      " 21  v_33    3796 non-null   int64  \n",
      " 22  v_17    3796 non-null   int64  \n",
      " 23  v_19    3796 non-null   int64  \n",
      " 24  v_29    3796 non-null   int64  \n",
      " 25  v_23    3796 non-null   int64  \n",
      " 26  v_24    3796 non-null   int64  \n",
      " 27  v_10    3796 non-null   int64  \n",
      " 28  v_5     3796 non-null   int64  \n",
      " 29  v_6     3796 non-null   int64  \n",
      " 30  v_22    3796 non-null   int64  \n",
      " 31  v_0     3796 non-null   int64  \n",
      " 32  v_7     3796 non-null   float64\n",
      " 33  v_2     3796 non-null   float64\n",
      " 34  v_16    3796 non-null   float64\n",
      " 35  v_34    3796 non-null   int64  \n",
      " 36  v_35    3796 non-null   int64  \n",
      " 37  v_36    3796 non-null   int64  \n",
      " 38  v_37    3796 non-null   int64  \n",
      " 39  v_38    3796 non-null   int64  \n",
      " 40  v_39    3796 non-null   int64  \n",
      " 41  v_40    3796 non-null   int64  \n",
      " 42  label   3796 non-null   int64  \n",
      "dtypes: float64(3), int64(40)\n",
      "memory usage: 1.2 MB\n"
     ]
    }
   ],
   "source": [
    "data_train.info()"
   ]
  },
  {
   "cell_type": "markdown",
   "id": "555a6e45",
   "metadata": {
    "papermill": {
     "duration": 0.018071,
     "end_time": "2022-09-11T17:00:33.355617",
     "exception": false,
     "start_time": "2022-09-11T17:00:33.337546",
     "status": "completed"
    },
    "tags": []
   },
   "source": [
    "#### Data Preprocessing"
   ]
  },
  {
   "cell_type": "code",
   "execution_count": 6,
   "id": "5f536c93",
   "metadata": {
    "execution": {
     "iopub.execute_input": "2022-09-11T17:00:33.395394Z",
     "iopub.status.busy": "2022-09-11T17:00:33.394267Z",
     "iopub.status.idle": "2022-09-11T17:00:33.402507Z",
     "shell.execute_reply": "2022-09-11T17:00:33.401650Z"
    },
    "papermill": {
     "duration": 0.030922,
     "end_time": "2022-09-11T17:00:33.404902",
     "exception": false,
     "start_time": "2022-09-11T17:00:33.373980",
     "status": "completed"
    },
    "tags": []
   },
   "outputs": [],
   "source": [
    "X = data_train.drop('label',axis=1)\n",
    "y = data_train['label']"
   ]
  },
  {
   "cell_type": "code",
   "execution_count": 7,
   "id": "a979b446",
   "metadata": {
    "execution": {
     "iopub.execute_input": "2022-09-11T17:00:33.444406Z",
     "iopub.status.busy": "2022-09-11T17:00:33.443348Z",
     "iopub.status.idle": "2022-09-11T17:00:33.450824Z",
     "shell.execute_reply": "2022-09-11T17:00:33.449672Z"
    },
    "papermill": {
     "duration": 0.0296,
     "end_time": "2022-09-11T17:00:33.453238",
     "exception": false,
     "start_time": "2022-09-11T17:00:33.423638",
     "status": "completed"
    },
    "tags": []
   },
   "outputs": [
    {
     "data": {
      "text/plain": [
       "(3796, 42)"
      ]
     },
     "execution_count": 7,
     "metadata": {},
     "output_type": "execute_result"
    }
   ],
   "source": [
    "X.shape"
   ]
  },
  {
   "cell_type": "code",
   "execution_count": 8,
   "id": "e699f44c",
   "metadata": {
    "execution": {
     "iopub.execute_input": "2022-09-11T17:00:33.492203Z",
     "iopub.status.busy": "2022-09-11T17:00:33.491582Z",
     "iopub.status.idle": "2022-09-11T17:00:33.497637Z",
     "shell.execute_reply": "2022-09-11T17:00:33.496563Z"
    },
    "papermill": {
     "duration": 0.029566,
     "end_time": "2022-09-11T17:00:33.501464",
     "exception": false,
     "start_time": "2022-09-11T17:00:33.471898",
     "status": "completed"
    },
    "tags": []
   },
   "outputs": [
    {
     "data": {
      "text/plain": [
       "(1628, 42)"
      ]
     },
     "execution_count": 8,
     "metadata": {},
     "output_type": "execute_result"
    }
   ],
   "source": [
    "data_test.shape"
   ]
  },
  {
   "cell_type": "code",
   "execution_count": 9,
   "id": "f31ff027",
   "metadata": {
    "execution": {
     "iopub.execute_input": "2022-09-11T17:00:33.553446Z",
     "iopub.status.busy": "2022-09-11T17:00:33.552339Z",
     "iopub.status.idle": "2022-09-11T17:00:33.559098Z",
     "shell.execute_reply": "2022-09-11T17:00:33.558297Z"
    },
    "papermill": {
     "duration": 0.037603,
     "end_time": "2022-09-11T17:00:33.561644",
     "exception": false,
     "start_time": "2022-09-11T17:00:33.524041",
     "status": "completed"
    },
    "tags": []
   },
   "outputs": [
    {
     "data": {
      "text/plain": [
       "(3796, 42)"
      ]
     },
     "execution_count": 9,
     "metadata": {},
     "output_type": "execute_result"
    }
   ],
   "source": [
    "X.shape"
   ]
  },
  {
   "cell_type": "code",
   "execution_count": 10,
   "id": "13fd3e2a",
   "metadata": {
    "execution": {
     "iopub.execute_input": "2022-09-11T17:00:33.607042Z",
     "iopub.status.busy": "2022-09-11T17:00:33.606339Z",
     "iopub.status.idle": "2022-09-11T17:00:34.704767Z",
     "shell.execute_reply": "2022-09-11T17:00:34.703589Z"
    },
    "papermill": {
     "duration": 1.122072,
     "end_time": "2022-09-11T17:00:34.707794",
     "exception": false,
     "start_time": "2022-09-11T17:00:33.585722",
     "status": "completed"
    },
    "tags": []
   },
   "outputs": [],
   "source": [
    "from sklearn.preprocessing import StandardScaler, MinMaxScaler"
   ]
  },
  {
   "cell_type": "code",
   "execution_count": 11,
   "id": "c968009d",
   "metadata": {
    "execution": {
     "iopub.execute_input": "2022-09-11T17:00:34.748565Z",
     "iopub.status.busy": "2022-09-11T17:00:34.748119Z",
     "iopub.status.idle": "2022-09-11T17:00:34.768177Z",
     "shell.execute_reply": "2022-09-11T17:00:34.766854Z"
    },
    "papermill": {
     "duration": 0.04376,
     "end_time": "2022-09-11T17:00:34.771036",
     "exception": false,
     "start_time": "2022-09-11T17:00:34.727276",
     "status": "completed"
    },
    "tags": []
   },
   "outputs": [],
   "source": [
    "X_new  = StandardScaler().fit_transform(X)\n",
    "data_test_new = StandardScaler().fit_transform(data_test)"
   ]
  },
  {
   "cell_type": "code",
   "execution_count": 12,
   "id": "e1e74242",
   "metadata": {
    "execution": {
     "iopub.execute_input": "2022-09-11T17:00:34.810820Z",
     "iopub.status.busy": "2022-09-11T17:00:34.810011Z",
     "iopub.status.idle": "2022-09-11T17:00:34.816887Z",
     "shell.execute_reply": "2022-09-11T17:00:34.815996Z"
    },
    "papermill": {
     "duration": 0.029015,
     "end_time": "2022-09-11T17:00:34.819009",
     "exception": false,
     "start_time": "2022-09-11T17:00:34.789994",
     "status": "completed"
    },
    "tags": []
   },
   "outputs": [
    {
     "data": {
      "text/plain": [
       "(1628, 42)"
      ]
     },
     "execution_count": 12,
     "metadata": {},
     "output_type": "execute_result"
    }
   ],
   "source": [
    "data_test_new.shape"
   ]
  },
  {
   "cell_type": "code",
   "execution_count": 13,
   "id": "fa64e0bf",
   "metadata": {
    "execution": {
     "iopub.execute_input": "2022-09-11T17:00:34.859078Z",
     "iopub.status.busy": "2022-09-11T17:00:34.858392Z",
     "iopub.status.idle": "2022-09-11T17:00:34.924960Z",
     "shell.execute_reply": "2022-09-11T17:00:34.923627Z"
    },
    "papermill": {
     "duration": 0.089581,
     "end_time": "2022-09-11T17:00:34.927696",
     "exception": false,
     "start_time": "2022-09-11T17:00:34.838115",
     "status": "completed"
    },
    "tags": []
   },
   "outputs": [],
   "source": [
    "from sklearn.model_selection import train_test_split"
   ]
  },
  {
   "cell_type": "code",
   "execution_count": 14,
   "id": "e3392959",
   "metadata": {
    "execution": {
     "iopub.execute_input": "2022-09-11T17:00:34.967566Z",
     "iopub.status.busy": "2022-09-11T17:00:34.966909Z",
     "iopub.status.idle": "2022-09-11T17:00:34.975226Z",
     "shell.execute_reply": "2022-09-11T17:00:34.973999Z"
    },
    "papermill": {
     "duration": 0.030873,
     "end_time": "2022-09-11T17:00:34.977667",
     "exception": false,
     "start_time": "2022-09-11T17:00:34.946794",
     "status": "completed"
    },
    "tags": []
   },
   "outputs": [],
   "source": [
    "X_train, X_test, y_train, y_test = train_test_split(X_new,y, test_size=0.2,random_state=42)"
   ]
  },
  {
   "cell_type": "markdown",
   "id": "ef00f235",
   "metadata": {
    "papermill": {
     "duration": 0.019009,
     "end_time": "2022-09-11T17:00:35.016344",
     "exception": false,
     "start_time": "2022-09-11T17:00:34.997335",
     "status": "completed"
    },
    "tags": []
   },
   "source": [
    "### Our Scoring Metric is: F1_Score"
   ]
  },
  {
   "cell_type": "markdown",
   "id": "54f680be",
   "metadata": {
    "papermill": {
     "duration": 0.018519,
     "end_time": "2022-09-11T17:00:35.053731",
     "exception": false,
     "start_time": "2022-09-11T17:00:35.035212",
     "status": "completed"
    },
    "tags": []
   },
   "source": [
    "# Selecting and Training Model"
   ]
  },
  {
   "cell_type": "markdown",
   "id": "932ecda6",
   "metadata": {
    "papermill": {
     "duration": 0.019638,
     "end_time": "2022-09-11T17:00:35.092264",
     "exception": false,
     "start_time": "2022-09-11T17:00:35.072626",
     "status": "completed"
    },
    "tags": []
   },
   "source": [
    "### 1. LogisticRegressionCV"
   ]
  },
  {
   "cell_type": "code",
   "execution_count": 15,
   "id": "b0011c78",
   "metadata": {
    "execution": {
     "iopub.execute_input": "2022-09-11T17:00:35.132650Z",
     "iopub.status.busy": "2022-09-11T17:00:35.131248Z",
     "iopub.status.idle": "2022-09-11T17:00:35.220501Z",
     "shell.execute_reply": "2022-09-11T17:00:35.219274Z"
    },
    "papermill": {
     "duration": 0.112405,
     "end_time": "2022-09-11T17:00:35.223538",
     "exception": false,
     "start_time": "2022-09-11T17:00:35.111133",
     "status": "completed"
    },
    "tags": []
   },
   "outputs": [],
   "source": [
    "from sklearn.linear_model import LogisticRegressionCV\n",
    "\n",
    "lrcv = LogisticRegressionCV(cv=10,random_state=42)"
   ]
  },
  {
   "cell_type": "code",
   "execution_count": 16,
   "id": "e14932b2",
   "metadata": {
    "execution": {
     "iopub.execute_input": "2022-09-11T17:00:35.262914Z",
     "iopub.status.busy": "2022-09-11T17:00:35.262520Z",
     "iopub.status.idle": "2022-09-11T17:00:39.982779Z",
     "shell.execute_reply": "2022-09-11T17:00:39.981256Z"
    },
    "papermill": {
     "duration": 4.744543,
     "end_time": "2022-09-11T17:00:39.986968",
     "exception": false,
     "start_time": "2022-09-11T17:00:35.242425",
     "status": "completed"
    },
    "tags": []
   },
   "outputs": [
    {
     "data": {
      "text/plain": [
       "LogisticRegressionCV(cv=10, random_state=42)"
      ]
     },
     "execution_count": 16,
     "metadata": {},
     "output_type": "execute_result"
    }
   ],
   "source": [
    "lrcv.fit(X_train,y_train)"
   ]
  },
  {
   "cell_type": "code",
   "execution_count": 17,
   "id": "ee6ae9e9",
   "metadata": {
    "execution": {
     "iopub.execute_input": "2022-09-11T17:00:40.090261Z",
     "iopub.status.busy": "2022-09-11T17:00:40.089551Z",
     "iopub.status.idle": "2022-09-11T17:00:40.103089Z",
     "shell.execute_reply": "2022-09-11T17:00:40.101342Z"
    },
    "papermill": {
     "duration": 0.071348,
     "end_time": "2022-09-11T17:00:40.108663",
     "exception": false,
     "start_time": "2022-09-11T17:00:40.037315",
     "status": "completed"
    },
    "tags": []
   },
   "outputs": [
    {
     "name": "stdout",
     "output_type": "stream",
     "text": [
      "F1_Score - LogisticRegressionCV:  0.7426238145416227\n"
     ]
    }
   ],
   "source": [
    "print(\"F1_Score - LogisticRegressionCV: \" ,lrcv.score(X_new,y))"
   ]
  },
  {
   "cell_type": "markdown",
   "id": "411420e7",
   "metadata": {
    "papermill": {
     "duration": 0.049011,
     "end_time": "2022-09-11T17:00:40.207469",
     "exception": false,
     "start_time": "2022-09-11T17:00:40.158458",
     "status": "completed"
    },
    "tags": []
   },
   "source": [
    "### 2. Ridge Classifier CV"
   ]
  },
  {
   "cell_type": "code",
   "execution_count": 18,
   "id": "3138b4be",
   "metadata": {
    "execution": {
     "iopub.execute_input": "2022-09-11T17:00:40.253734Z",
     "iopub.status.busy": "2022-09-11T17:00:40.253336Z",
     "iopub.status.idle": "2022-09-11T17:00:40.258835Z",
     "shell.execute_reply": "2022-09-11T17:00:40.257711Z"
    },
    "papermill": {
     "duration": 0.028411,
     "end_time": "2022-09-11T17:00:40.261131",
     "exception": false,
     "start_time": "2022-09-11T17:00:40.232720",
     "status": "completed"
    },
    "tags": []
   },
   "outputs": [],
   "source": [
    "from sklearn.linear_model import RidgeClassifierCV"
   ]
  },
  {
   "cell_type": "code",
   "execution_count": 19,
   "id": "a3ca3296",
   "metadata": {
    "execution": {
     "iopub.execute_input": "2022-09-11T17:00:40.301571Z",
     "iopub.status.busy": "2022-09-11T17:00:40.300654Z",
     "iopub.status.idle": "2022-09-11T17:00:40.770149Z",
     "shell.execute_reply": "2022-09-11T17:00:40.768590Z"
    },
    "papermill": {
     "duration": 0.494242,
     "end_time": "2022-09-11T17:00:40.774537",
     "exception": false,
     "start_time": "2022-09-11T17:00:40.280295",
     "status": "completed"
    },
    "tags": []
   },
   "outputs": [],
   "source": [
    "ridge = RidgeClassifierCV(alphas=[1e-3, 1e-2, 1e-1, 1],cv=10).fit(X_train, y_train)"
   ]
  },
  {
   "cell_type": "code",
   "execution_count": 20,
   "id": "3cd90100",
   "metadata": {
    "execution": {
     "iopub.execute_input": "2022-09-11T17:00:40.876873Z",
     "iopub.status.busy": "2022-09-11T17:00:40.876173Z",
     "iopub.status.idle": "2022-09-11T17:00:40.888776Z",
     "shell.execute_reply": "2022-09-11T17:00:40.887101Z"
    },
    "papermill": {
     "duration": 0.070335,
     "end_time": "2022-09-11T17:00:40.894771",
     "exception": false,
     "start_time": "2022-09-11T17:00:40.824436",
     "status": "completed"
    },
    "tags": []
   },
   "outputs": [
    {
     "name": "stdout",
     "output_type": "stream",
     "text": [
      "F1_Score -> RidgeClassifierCV:  0.7302423603793466\n"
     ]
    }
   ],
   "source": [
    "print(\"F1_Score -> RidgeClassifierCV: \" ,ridge.score(X_new,y))"
   ]
  },
  {
   "cell_type": "markdown",
   "id": "92f1b14c",
   "metadata": {
    "papermill": {
     "duration": 0.049503,
     "end_time": "2022-09-11T17:00:40.994537",
     "exception": false,
     "start_time": "2022-09-11T17:00:40.945034",
     "status": "completed"
    },
    "tags": []
   },
   "source": [
    "### 3. SGDClassifier"
   ]
  },
  {
   "cell_type": "code",
   "execution_count": 21,
   "id": "89ca33cf",
   "metadata": {
    "execution": {
     "iopub.execute_input": "2022-09-11T17:00:41.040695Z",
     "iopub.status.busy": "2022-09-11T17:00:41.040319Z",
     "iopub.status.idle": "2022-09-11T17:00:41.044902Z",
     "shell.execute_reply": "2022-09-11T17:00:41.044071Z"
    },
    "papermill": {
     "duration": 0.027709,
     "end_time": "2022-09-11T17:00:41.047239",
     "exception": false,
     "start_time": "2022-09-11T17:00:41.019530",
     "status": "completed"
    },
    "tags": []
   },
   "outputs": [],
   "source": [
    "from sklearn.linear_model import SGDClassifier\n",
    "\n",
    "sgd = SGDClassifier(max_iter=1000,tol=1e-3)"
   ]
  },
  {
   "cell_type": "code",
   "execution_count": 22,
   "id": "62ea1f17",
   "metadata": {
    "execution": {
     "iopub.execute_input": "2022-09-11T17:00:41.088685Z",
     "iopub.status.busy": "2022-09-11T17:00:41.087960Z",
     "iopub.status.idle": "2022-09-11T17:00:41.201161Z",
     "shell.execute_reply": "2022-09-11T17:00:41.200016Z"
    },
    "papermill": {
     "duration": 0.137024,
     "end_time": "2022-09-11T17:00:41.203942",
     "exception": false,
     "start_time": "2022-09-11T17:00:41.066918",
     "status": "completed"
    },
    "tags": []
   },
   "outputs": [
    {
     "data": {
      "text/plain": [
       "SGDClassifier()"
      ]
     },
     "execution_count": 22,
     "metadata": {},
     "output_type": "execute_result"
    }
   ],
   "source": [
    "sgd.fit(X_train,y_train)"
   ]
  },
  {
   "cell_type": "code",
   "execution_count": 23,
   "id": "0c33d31d",
   "metadata": {
    "execution": {
     "iopub.execute_input": "2022-09-11T17:00:41.244778Z",
     "iopub.status.busy": "2022-09-11T17:00:41.244097Z",
     "iopub.status.idle": "2022-09-11T17:00:41.251790Z",
     "shell.execute_reply": "2022-09-11T17:00:41.250119Z"
    },
    "papermill": {
     "duration": 0.03075,
     "end_time": "2022-09-11T17:00:41.254137",
     "exception": false,
     "start_time": "2022-09-11T17:00:41.223387",
     "status": "completed"
    },
    "tags": []
   },
   "outputs": [
    {
     "name": "stdout",
     "output_type": "stream",
     "text": [
      "F1_Score -> SGDClassifier:  0.7105263157894737\n"
     ]
    }
   ],
   "source": [
    "print(\"F1_Score -> SGDClassifier: \" ,sgd.score(X_test,y_test))"
   ]
  },
  {
   "cell_type": "markdown",
   "id": "dd5f5f46",
   "metadata": {
    "papermill": {
     "duration": 0.018876,
     "end_time": "2022-09-11T17:00:41.293052",
     "exception": false,
     "start_time": "2022-09-11T17:00:41.274176",
     "status": "completed"
    },
    "tags": []
   },
   "source": [
    "### 4. Gaussian Naive Bayes"
   ]
  },
  {
   "cell_type": "code",
   "execution_count": 24,
   "id": "57a991bd",
   "metadata": {
    "execution": {
     "iopub.execute_input": "2022-09-11T17:00:41.333543Z",
     "iopub.status.busy": "2022-09-11T17:00:41.333082Z",
     "iopub.status.idle": "2022-09-11T17:00:41.339818Z",
     "shell.execute_reply": "2022-09-11T17:00:41.338998Z"
    },
    "papermill": {
     "duration": 0.029696,
     "end_time": "2022-09-11T17:00:41.341957",
     "exception": false,
     "start_time": "2022-09-11T17:00:41.312261",
     "status": "completed"
    },
    "tags": []
   },
   "outputs": [],
   "source": [
    "from sklearn.naive_bayes import GaussianNB"
   ]
  },
  {
   "cell_type": "code",
   "execution_count": 25,
   "id": "96aeb79b",
   "metadata": {
    "execution": {
     "iopub.execute_input": "2022-09-11T17:00:41.382596Z",
     "iopub.status.busy": "2022-09-11T17:00:41.381852Z",
     "iopub.status.idle": "2022-09-11T17:00:41.390085Z",
     "shell.execute_reply": "2022-09-11T17:00:41.389030Z"
    },
    "papermill": {
     "duration": 0.031127,
     "end_time": "2022-09-11T17:00:41.392511",
     "exception": false,
     "start_time": "2022-09-11T17:00:41.361384",
     "status": "completed"
    },
    "tags": []
   },
   "outputs": [],
   "source": [
    "gnb = GaussianNB().fit(X_train,y_train)"
   ]
  },
  {
   "cell_type": "code",
   "execution_count": 26,
   "id": "96fb71f8",
   "metadata": {
    "execution": {
     "iopub.execute_input": "2022-09-11T17:00:41.432972Z",
     "iopub.status.busy": "2022-09-11T17:00:41.432564Z",
     "iopub.status.idle": "2022-09-11T17:00:41.440792Z",
     "shell.execute_reply": "2022-09-11T17:00:41.439271Z"
    },
    "papermill": {
     "duration": 0.031562,
     "end_time": "2022-09-11T17:00:41.443400",
     "exception": false,
     "start_time": "2022-09-11T17:00:41.411838",
     "status": "completed"
    },
    "tags": []
   },
   "outputs": [
    {
     "name": "stdout",
     "output_type": "stream",
     "text": [
      "F1_Score -> GaussianNB:  0.6539473684210526\n"
     ]
    }
   ],
   "source": [
    "print(\"F1_Score -> GaussianNB: \" ,gnb.score(X_test,y_test))"
   ]
  },
  {
   "cell_type": "markdown",
   "id": "255a4777",
   "metadata": {
    "papermill": {
     "duration": 0.019095,
     "end_time": "2022-09-11T17:00:41.481943",
     "exception": false,
     "start_time": "2022-09-11T17:00:41.462848",
     "status": "completed"
    },
    "tags": []
   },
   "source": [
    "### 5. MultinomialNB"
   ]
  },
  {
   "cell_type": "code",
   "execution_count": 27,
   "id": "ff13ac74",
   "metadata": {
    "execution": {
     "iopub.execute_input": "2022-09-11T17:00:41.522589Z",
     "iopub.status.busy": "2022-09-11T17:00:41.522176Z",
     "iopub.status.idle": "2022-09-11T17:00:41.526942Z",
     "shell.execute_reply": "2022-09-11T17:00:41.525715Z"
    },
    "papermill": {
     "duration": 0.027884,
     "end_time": "2022-09-11T17:00:41.529234",
     "exception": false,
     "start_time": "2022-09-11T17:00:41.501350",
     "status": "completed"
    },
    "tags": []
   },
   "outputs": [],
   "source": [
    "from sklearn.naive_bayes import MultinomialNB"
   ]
  },
  {
   "cell_type": "code",
   "execution_count": 28,
   "id": "39f66335",
   "metadata": {
    "execution": {
     "iopub.execute_input": "2022-09-11T17:00:41.569925Z",
     "iopub.status.busy": "2022-09-11T17:00:41.569518Z",
     "iopub.status.idle": "2022-09-11T17:00:41.573806Z",
     "shell.execute_reply": "2022-09-11T17:00:41.572662Z"
    },
    "papermill": {
     "duration": 0.027475,
     "end_time": "2022-09-11T17:00:41.576101",
     "exception": false,
     "start_time": "2022-09-11T17:00:41.548626",
     "status": "completed"
    },
    "tags": []
   },
   "outputs": [],
   "source": [
    "#mnb = MultinomialNB().fit(X_train,y_train)"
   ]
  },
  {
   "cell_type": "code",
   "execution_count": 29,
   "id": "eda895bd",
   "metadata": {
    "execution": {
     "iopub.execute_input": "2022-09-11T17:00:41.617513Z",
     "iopub.status.busy": "2022-09-11T17:00:41.616837Z",
     "iopub.status.idle": "2022-09-11T17:00:41.621625Z",
     "shell.execute_reply": "2022-09-11T17:00:41.620523Z"
    },
    "papermill": {
     "duration": 0.028161,
     "end_time": "2022-09-11T17:00:41.624017",
     "exception": false,
     "start_time": "2022-09-11T17:00:41.595856",
     "status": "completed"
    },
    "tags": []
   },
   "outputs": [],
   "source": [
    "#print(\"F1_Score -> MultinomialNB: \" ,mnb.score(X_test,y_test))"
   ]
  },
  {
   "cell_type": "markdown",
   "id": "688bc812",
   "metadata": {
    "papermill": {
     "duration": 0.019054,
     "end_time": "2022-09-11T17:00:41.662927",
     "exception": false,
     "start_time": "2022-09-11T17:00:41.643873",
     "status": "completed"
    },
    "tags": []
   },
   "source": [
    "Note: Multinomial Naive Bayes gives an error because it is generally used to work on word count in given text document and count is always non-negative."
   ]
  },
  {
   "cell_type": "markdown",
   "id": "b32016de",
   "metadata": {
    "papermill": {
     "duration": 0.018989,
     "end_time": "2022-09-11T17:00:41.701081",
     "exception": false,
     "start_time": "2022-09-11T17:00:41.682092",
     "status": "completed"
    },
    "tags": []
   },
   "source": [
    "### 5. KNNClassifier with GridSearchCV"
   ]
  },
  {
   "cell_type": "code",
   "execution_count": 30,
   "id": "e95404bc",
   "metadata": {
    "execution": {
     "iopub.execute_input": "2022-09-11T17:00:41.741283Z",
     "iopub.status.busy": "2022-09-11T17:00:41.740847Z",
     "iopub.status.idle": "2022-09-11T17:00:49.888285Z",
     "shell.execute_reply": "2022-09-11T17:00:49.886608Z"
    },
    "papermill": {
     "duration": 8.172812,
     "end_time": "2022-09-11T17:00:49.893125",
     "exception": false,
     "start_time": "2022-09-11T17:00:41.720313",
     "status": "completed"
    },
    "tags": []
   },
   "outputs": [
    {
     "data": {
      "text/plain": [
       "GridSearchCV(cv=10, estimator=KNeighborsClassifier(),\n",
       "             param_grid={'metric': ['euclidean', 'manhattan', 'minkowski'],\n",
       "                         'n_neighbors': [2, 4, 5],\n",
       "                         'weights': ['uniform', 'distance']})"
      ]
     },
     "execution_count": 30,
     "metadata": {},
     "output_type": "execute_result"
    }
   ],
   "source": [
    "from sklearn.model_selection import GridSearchCV\n",
    "from sklearn.neighbors import KNeighborsClassifier\n",
    "\n",
    "params_knn = {'n_neighbors':[2,4,5],'weights':['uniform','distance'],'metric':['euclidean', 'manhattan','minkowski']}\n",
    "knn=GridSearchCV(KNeighborsClassifier(algorithm='auto'),param_grid=params_knn,cv=10)\n",
    "knn.fit(X_train,y_train)\n"
   ]
  },
  {
   "cell_type": "code",
   "execution_count": 31,
   "id": "fa1b4df3",
   "metadata": {
    "execution": {
     "iopub.execute_input": "2022-09-11T17:00:49.977739Z",
     "iopub.status.busy": "2022-09-11T17:00:49.977345Z",
     "iopub.status.idle": "2022-09-11T17:00:50.112316Z",
     "shell.execute_reply": "2022-09-11T17:00:50.110470Z"
    },
    "papermill": {
     "duration": 0.169001,
     "end_time": "2022-09-11T17:00:50.114915",
     "exception": false,
     "start_time": "2022-09-11T17:00:49.945914",
     "status": "completed"
    },
    "tags": []
   },
   "outputs": [
    {
     "name": "stdout",
     "output_type": "stream",
     "text": [
      "F1_Score -> KNN CLassifier:  0.65\n"
     ]
    }
   ],
   "source": [
    "print(\"F1_Score -> KNN CLassifier: \" ,knn.score(X_test,y_test))"
   ]
  },
  {
   "cell_type": "markdown",
   "id": "08cea14b",
   "metadata": {
    "papermill": {
     "duration": 0.019589,
     "end_time": "2022-09-11T17:00:50.154309",
     "exception": false,
     "start_time": "2022-09-11T17:00:50.134720",
     "status": "completed"
    },
    "tags": []
   },
   "source": [
    "### 6. MLP Classifier"
   ]
  },
  {
   "cell_type": "code",
   "execution_count": 32,
   "id": "53cf31f1",
   "metadata": {
    "execution": {
     "iopub.execute_input": "2022-09-11T17:00:50.195157Z",
     "iopub.status.busy": "2022-09-11T17:00:50.194723Z",
     "iopub.status.idle": "2022-09-11T17:01:13.179377Z",
     "shell.execute_reply": "2022-09-11T17:01:13.177691Z"
    },
    "papermill": {
     "duration": 23.01017,
     "end_time": "2022-09-11T17:01:13.183936",
     "exception": false,
     "start_time": "2022-09-11T17:00:50.173766",
     "status": "completed"
    },
    "tags": []
   },
   "outputs": [],
   "source": [
    "from sklearn.neural_network import MLPClassifier\n",
    "\n",
    "mlpc = MLPClassifier(max_iter=1000).fit(X_train,y_train)"
   ]
  },
  {
   "cell_type": "code",
   "execution_count": 33,
   "id": "916ed3b6",
   "metadata": {
    "execution": {
     "iopub.execute_input": "2022-09-11T17:01:13.289620Z",
     "iopub.status.busy": "2022-09-11T17:01:13.288905Z",
     "iopub.status.idle": "2022-09-11T17:01:13.308745Z",
     "shell.execute_reply": "2022-09-11T17:01:13.306001Z"
    },
    "papermill": {
     "duration": 0.078428,
     "end_time": "2022-09-11T17:01:13.313835",
     "exception": false,
     "start_time": "2022-09-11T17:01:13.235407",
     "status": "completed"
    },
    "tags": []
   },
   "outputs": [
    {
     "name": "stdout",
     "output_type": "stream",
     "text": [
      "F1_Score -> MLPCLassifier:  0.6802631578947368\n"
     ]
    }
   ],
   "source": [
    "print(\"F1_Score -> MLPCLassifier: \" ,mlpc.score(X_test,y_test))"
   ]
  },
  {
   "cell_type": "markdown",
   "id": "e29defef",
   "metadata": {
    "papermill": {
     "duration": 0.051121,
     "end_time": "2022-09-11T17:01:13.416826",
     "exception": false,
     "start_time": "2022-09-11T17:01:13.365705",
     "status": "completed"
    },
    "tags": []
   },
   "source": [
    "### 7. LinearSVC"
   ]
  },
  {
   "cell_type": "code",
   "execution_count": 34,
   "id": "55ff1c11",
   "metadata": {
    "execution": {
     "iopub.execute_input": "2022-09-11T17:01:13.459369Z",
     "iopub.status.busy": "2022-09-11T17:01:13.458932Z",
     "iopub.status.idle": "2022-09-11T17:01:15.009176Z",
     "shell.execute_reply": "2022-09-11T17:01:15.008096Z"
    },
    "papermill": {
     "duration": 1.574105,
     "end_time": "2022-09-11T17:01:15.011620",
     "exception": false,
     "start_time": "2022-09-11T17:01:13.437515",
     "status": "completed"
    },
    "tags": []
   },
   "outputs": [
    {
     "name": "stderr",
     "output_type": "stream",
     "text": [
      "/opt/conda/lib/python3.7/site-packages/sklearn/svm/_base.py:1208: ConvergenceWarning: Liblinear failed to converge, increase the number of iterations.\n",
      "  ConvergenceWarning,\n"
     ]
    }
   ],
   "source": [
    "from sklearn.svm import LinearSVC\n",
    "\n",
    "lsvc = LinearSVC(max_iter=1000).fit(X_train,y_train)"
   ]
  },
  {
   "cell_type": "code",
   "execution_count": 35,
   "id": "1f294add",
   "metadata": {
    "execution": {
     "iopub.execute_input": "2022-09-11T17:01:15.053031Z",
     "iopub.status.busy": "2022-09-11T17:01:15.052384Z",
     "iopub.status.idle": "2022-09-11T17:01:15.059849Z",
     "shell.execute_reply": "2022-09-11T17:01:15.058293Z"
    },
    "papermill": {
     "duration": 0.03112,
     "end_time": "2022-09-11T17:01:15.062281",
     "exception": false,
     "start_time": "2022-09-11T17:01:15.031161",
     "status": "completed"
    },
    "tags": []
   },
   "outputs": [
    {
     "name": "stdout",
     "output_type": "stream",
     "text": [
      "F1_Score -> Linear SVC:  0.7276315789473684\n"
     ]
    }
   ],
   "source": [
    "print(\"F1_Score -> Linear SVC: \" ,lsvc.score(X_test,y_test))"
   ]
  },
  {
   "cell_type": "markdown",
   "id": "96fa5668",
   "metadata": {
    "papermill": {
     "duration": 0.019689,
     "end_time": "2022-09-11T17:01:15.102219",
     "exception": false,
     "start_time": "2022-09-11T17:01:15.082530",
     "status": "completed"
    },
    "tags": []
   },
   "source": [
    "### 8. SVC with GridSearchCV"
   ]
  },
  {
   "cell_type": "code",
   "execution_count": 36,
   "id": "ca28c4da",
   "metadata": {
    "execution": {
     "iopub.execute_input": "2022-09-11T17:01:15.143671Z",
     "iopub.status.busy": "2022-09-11T17:01:15.143253Z",
     "iopub.status.idle": "2022-09-11T17:01:15.149238Z",
     "shell.execute_reply": "2022-09-11T17:01:15.147811Z"
    },
    "papermill": {
     "duration": 0.029184,
     "end_time": "2022-09-11T17:01:15.151316",
     "exception": false,
     "start_time": "2022-09-11T17:01:15.122132",
     "status": "completed"
    },
    "tags": []
   },
   "outputs": [],
   "source": [
    "from sklearn.svm import SVC\n",
    "\n",
    "params_svc = {'kernel':['linear','poly','rbf','sigmoid'] , 'C':[0.1,0.5,1,10]}\n",
    "\n",
    "#svc_gcv = GridSearchCV(SVC(),param_grid=params_svc,cv=10)\n",
    "#svc_gcv.fit(X_train,y_train)\n"
   ]
  },
  {
   "cell_type": "code",
   "execution_count": 37,
   "id": "db95024a",
   "metadata": {
    "execution": {
     "iopub.execute_input": "2022-09-11T17:01:15.192557Z",
     "iopub.status.busy": "2022-09-11T17:01:15.191843Z",
     "iopub.status.idle": "2022-09-11T17:01:15.196743Z",
     "shell.execute_reply": "2022-09-11T17:01:15.195646Z"
    },
    "papermill": {
     "duration": 0.02799,
     "end_time": "2022-09-11T17:01:15.198949",
     "exception": false,
     "start_time": "2022-09-11T17:01:15.170959",
     "status": "completed"
    },
    "tags": []
   },
   "outputs": [],
   "source": [
    "#svc_gcv.best_params_"
   ]
  },
  {
   "cell_type": "code",
   "execution_count": 38,
   "id": "b7ba1933",
   "metadata": {
    "execution": {
     "iopub.execute_input": "2022-09-11T17:01:15.240050Z",
     "iopub.status.busy": "2022-09-11T17:01:15.239646Z",
     "iopub.status.idle": "2022-09-11T17:01:15.244481Z",
     "shell.execute_reply": "2022-09-11T17:01:15.243094Z"
    },
    "papermill": {
     "duration": 0.028116,
     "end_time": "2022-09-11T17:01:15.246756",
     "exception": false,
     "start_time": "2022-09-11T17:01:15.218640",
     "status": "completed"
    },
    "tags": []
   },
   "outputs": [],
   "source": [
    "#print(\"F1_Score -> SVC with GridSearchCV: \" ,svc_gcv.score(X_test,y_test))"
   ]
  },
  {
   "cell_type": "markdown",
   "id": "04c673e2",
   "metadata": {
    "papermill": {
     "duration": 0.019301,
     "end_time": "2022-09-11T17:01:15.285972",
     "exception": false,
     "start_time": "2022-09-11T17:01:15.266671",
     "status": "completed"
    },
    "tags": []
   },
   "source": [
    "### 9. Decision Tree Classifier"
   ]
  },
  {
   "cell_type": "code",
   "execution_count": 39,
   "id": "fdec1fac",
   "metadata": {
    "execution": {
     "iopub.execute_input": "2022-09-11T17:01:15.327441Z",
     "iopub.status.busy": "2022-09-11T17:01:15.326986Z",
     "iopub.status.idle": "2022-09-11T17:01:15.412379Z",
     "shell.execute_reply": "2022-09-11T17:01:15.411163Z"
    },
    "papermill": {
     "duration": 0.109232,
     "end_time": "2022-09-11T17:01:15.414916",
     "exception": false,
     "start_time": "2022-09-11T17:01:15.305684",
     "status": "completed"
    },
    "tags": []
   },
   "outputs": [
    {
     "data": {
      "text/plain": [
       "DecisionTreeClassifier(criterion='entropy', max_depth=10)"
      ]
     },
     "execution_count": 39,
     "metadata": {},
     "output_type": "execute_result"
    }
   ],
   "source": [
    "from sklearn.tree import DecisionTreeClassifier\n",
    "\n",
    "dtc = DecisionTreeClassifier(criterion='entropy',splitter='best',max_depth=10)\n",
    "\n",
    "dtc.fit(X_train,y_train)"
   ]
  },
  {
   "cell_type": "code",
   "execution_count": 40,
   "id": "903b42b7",
   "metadata": {
    "execution": {
     "iopub.execute_input": "2022-09-11T17:01:15.456630Z",
     "iopub.status.busy": "2022-09-11T17:01:15.456237Z",
     "iopub.status.idle": "2022-09-11T17:01:15.462785Z",
     "shell.execute_reply": "2022-09-11T17:01:15.461687Z"
    },
    "papermill": {
     "duration": 0.029718,
     "end_time": "2022-09-11T17:01:15.465066",
     "exception": false,
     "start_time": "2022-09-11T17:01:15.435348",
     "status": "completed"
    },
    "tags": []
   },
   "outputs": [
    {
     "name": "stdout",
     "output_type": "stream",
     "text": [
      "F1_Score -> Decision Tree CLassifier:  0.6815789473684211\n"
     ]
    }
   ],
   "source": [
    "print(\"F1_Score -> Decision Tree CLassifier: \" ,dtc.score(X_test,y_test))"
   ]
  },
  {
   "cell_type": "markdown",
   "id": "c93f5190",
   "metadata": {
    "papermill": {
     "duration": 0.019277,
     "end_time": "2022-09-11T17:01:15.504149",
     "exception": false,
     "start_time": "2022-09-11T17:01:15.484872",
     "status": "completed"
    },
    "tags": []
   },
   "source": [
    "### 10. Random Forest Classifier"
   ]
  },
  {
   "cell_type": "code",
   "execution_count": 41,
   "id": "91044402",
   "metadata": {
    "execution": {
     "iopub.execute_input": "2022-09-11T17:01:15.545676Z",
     "iopub.status.busy": "2022-09-11T17:01:15.545081Z",
     "iopub.status.idle": "2022-09-11T17:01:16.379713Z",
     "shell.execute_reply": "2022-09-11T17:01:16.378432Z"
    },
    "papermill": {
     "duration": 0.858325,
     "end_time": "2022-09-11T17:01:16.382239",
     "exception": false,
     "start_time": "2022-09-11T17:01:15.523914",
     "status": "completed"
    },
    "tags": []
   },
   "outputs": [
    {
     "data": {
      "text/plain": [
       "RandomForestClassifier()"
      ]
     },
     "execution_count": 41,
     "metadata": {},
     "output_type": "execute_result"
    }
   ],
   "source": [
    "from sklearn.ensemble import RandomForestClassifier\n",
    "\n",
    "rfc = RandomForestClassifier()\n",
    "rfc.fit(X_train,y_train)"
   ]
  },
  {
   "cell_type": "code",
   "execution_count": 42,
   "id": "22e09e22",
   "metadata": {
    "execution": {
     "iopub.execute_input": "2022-09-11T17:01:16.424325Z",
     "iopub.status.busy": "2022-09-11T17:01:16.423882Z",
     "iopub.status.idle": "2022-09-11T17:01:16.464594Z",
     "shell.execute_reply": "2022-09-11T17:01:16.463443Z"
    },
    "papermill": {
     "duration": 0.06463,
     "end_time": "2022-09-11T17:01:16.467145",
     "exception": false,
     "start_time": "2022-09-11T17:01:16.402515",
     "status": "completed"
    },
    "tags": []
   },
   "outputs": [
    {
     "name": "stdout",
     "output_type": "stream",
     "text": [
      "F1_Score -> Random Forest CLassifier:  0.7368421052631579\n"
     ]
    }
   ],
   "source": [
    "print(\"F1_Score -> Random Forest CLassifier: \" ,rfc.score(X_test,y_test))"
   ]
  },
  {
   "cell_type": "markdown",
   "id": "6f9d5f95",
   "metadata": {
    "papermill": {
     "duration": 0.019682,
     "end_time": "2022-09-11T17:01:16.507799",
     "exception": false,
     "start_time": "2022-09-11T17:01:16.488117",
     "status": "completed"
    },
    "tags": []
   },
   "source": [
    "### 11. Bagging Classifier"
   ]
  },
  {
   "cell_type": "code",
   "execution_count": 43,
   "id": "0322816e",
   "metadata": {
    "execution": {
     "iopub.execute_input": "2022-09-11T17:01:16.550001Z",
     "iopub.status.busy": "2022-09-11T17:01:16.549563Z",
     "iopub.status.idle": "2022-09-11T17:01:21.961866Z",
     "shell.execute_reply": "2022-09-11T17:01:21.960710Z"
    },
    "papermill": {
     "duration": 5.436251,
     "end_time": "2022-09-11T17:01:21.964162",
     "exception": false,
     "start_time": "2022-09-11T17:01:16.527911",
     "status": "completed"
    },
    "tags": []
   },
   "outputs": [
    {
     "data": {
      "text/plain": [
       "BaggingClassifier(base_estimator=RandomForestClassifier())"
      ]
     },
     "execution_count": 43,
     "metadata": {},
     "output_type": "execute_result"
    }
   ],
   "source": [
    "from sklearn.ensemble import BaggingClassifier\n",
    "\n",
    "bag = BaggingClassifier(base_estimator= rfc) #Since SVC gave the best score till now\n",
    "bag.fit(X_train,y_train)\n"
   ]
  },
  {
   "cell_type": "code",
   "execution_count": 44,
   "id": "76449c58",
   "metadata": {
    "execution": {
     "iopub.execute_input": "2022-09-11T17:01:22.007265Z",
     "iopub.status.busy": "2022-09-11T17:01:22.006497Z",
     "iopub.status.idle": "2022-09-11T17:01:22.301119Z",
     "shell.execute_reply": "2022-09-11T17:01:22.299821Z"
    },
    "papermill": {
     "duration": 0.319145,
     "end_time": "2022-09-11T17:01:22.303711",
     "exception": false,
     "start_time": "2022-09-11T17:01:21.984566",
     "status": "completed"
    },
    "tags": []
   },
   "outputs": [
    {
     "name": "stdout",
     "output_type": "stream",
     "text": [
      "F1_Score -> Bagging CLassifier:  0.7315789473684211\n"
     ]
    }
   ],
   "source": [
    "print(\"F1_Score -> Bagging CLassifier: \" ,bag.score(X_test,y_test))"
   ]
  },
  {
   "cell_type": "markdown",
   "id": "4967b3a0",
   "metadata": {
    "papermill": {
     "duration": 0.019968,
     "end_time": "2022-09-11T17:01:22.343927",
     "exception": false,
     "start_time": "2022-09-11T17:01:22.323959",
     "status": "completed"
    },
    "tags": []
   },
   "source": [
    "### 12. Using XG Boost"
   ]
  },
  {
   "cell_type": "code",
   "execution_count": 45,
   "id": "5c9a7f19",
   "metadata": {
    "execution": {
     "iopub.execute_input": "2022-09-11T17:01:22.386318Z",
     "iopub.status.busy": "2022-09-11T17:01:22.385565Z",
     "iopub.status.idle": "2022-09-11T17:01:23.823666Z",
     "shell.execute_reply": "2022-09-11T17:01:23.821757Z"
    },
    "papermill": {
     "duration": 1.462525,
     "end_time": "2022-09-11T17:01:23.826526",
     "exception": false,
     "start_time": "2022-09-11T17:01:22.364001",
     "status": "completed"
    },
    "tags": []
   },
   "outputs": [
    {
     "data": {
      "text/plain": [
       "XGBRFClassifier(base_score=0.5, booster='gbtree', callbacks=None,\n",
       "                colsample_bylevel=1, colsample_bytree=1,\n",
       "                early_stopping_rounds=None, enable_categorical=False,\n",
       "                eval_metric=None, gamma=0, gpu_id=-1, grow_policy='depthwise',\n",
       "                importance_type=None, interaction_constraints='',\n",
       "                learning_rate=0.1, max_bin=256, max_cat_to_onehot=4,\n",
       "                max_delta_step=0, max_depth=6, max_leaves=0, min_child_weight=1,\n",
       "                missing=nan, monotone_constraints='()', n_estimators=100,\n",
       "                n_jobs=0, num_parallel_tree=100, objective='multi:softprob',\n",
       "                predictor='auto', random_state=0, reg_alpha=0,\n",
       "                sampling_method='uniform', ...)"
      ]
     },
     "execution_count": 45,
     "metadata": {},
     "output_type": "execute_result"
    }
   ],
   "source": [
    "from xgboost import XGBRFClassifier\n",
    "\n",
    "xgbr = XGBRFClassifier(max_depth=6,n_estimators=100,learning_rate=0.1)\n",
    "\n",
    "xgbr.fit(X_train,y_train)"
   ]
  },
  {
   "cell_type": "code",
   "execution_count": 46,
   "id": "caeea454",
   "metadata": {
    "execution": {
     "iopub.execute_input": "2022-09-11T17:01:23.870703Z",
     "iopub.status.busy": "2022-09-11T17:01:23.870171Z",
     "iopub.status.idle": "2022-09-11T17:01:23.883307Z",
     "shell.execute_reply": "2022-09-11T17:01:23.882119Z"
    },
    "papermill": {
     "duration": 0.039659,
     "end_time": "2022-09-11T17:01:23.887328",
     "exception": false,
     "start_time": "2022-09-11T17:01:23.847669",
     "status": "completed"
    },
    "tags": []
   },
   "outputs": [
    {
     "name": "stdout",
     "output_type": "stream",
     "text": [
      "F1_Score -> XGBRFCLassifier:  0.7342105263157894\n"
     ]
    }
   ],
   "source": [
    "print(\"F1_Score -> XGBRFCLassifier: \" ,xgbr.score(X_test,y_test))"
   ]
  },
  {
   "cell_type": "code",
   "execution_count": 47,
   "id": "c3798780",
   "metadata": {
    "execution": {
     "iopub.execute_input": "2022-09-11T17:01:23.934100Z",
     "iopub.status.busy": "2022-09-11T17:01:23.933648Z",
     "iopub.status.idle": "2022-09-11T17:01:25.595824Z",
     "shell.execute_reply": "2022-09-11T17:01:25.594886Z"
    },
    "papermill": {
     "duration": 1.68715,
     "end_time": "2022-09-11T17:01:25.598606",
     "exception": false,
     "start_time": "2022-09-11T17:01:23.911456",
     "status": "completed"
    },
    "tags": []
   },
   "outputs": [
    {
     "data": {
      "text/plain": [
       "XGBClassifier(base_score=0.5, booster='gbtree', callbacks=None,\n",
       "              colsample_bylevel=1, colsample_bynode=1, colsample_bytree=1,\n",
       "              early_stopping_rounds=None, enable_categorical=False,\n",
       "              eval_metric=None, gamma=0, gpu_id=-1, grow_policy='depthwise',\n",
       "              importance_type=None, interaction_constraints='',\n",
       "              learning_rate=0.1, max_bin=256, max_cat_to_onehot=4,\n",
       "              max_delta_step=0, max_depth=6, max_leaves=0, min_child_weight=1,\n",
       "              missing=nan, monotone_constraints='()', n_estimators=100,\n",
       "              n_jobs=0, num_parallel_tree=1, objective='multi:softprob',\n",
       "              predictor='auto', random_state=42, reg_alpha=0, ...)"
      ]
     },
     "execution_count": 47,
     "metadata": {},
     "output_type": "execute_result"
    }
   ],
   "source": [
    "from xgboost import XGBClassifier\n",
    "\n",
    "xgb = XGBClassifier(random_state=42,n_estimators=100,max_depth=6,learning_rate=0.1)\n",
    "\n",
    "xgb.fit(X_train,y_train)"
   ]
  },
  {
   "cell_type": "code",
   "execution_count": 48,
   "id": "95b7e3b4",
   "metadata": {
    "execution": {
     "iopub.execute_input": "2022-09-11T17:01:25.641521Z",
     "iopub.status.busy": "2022-09-11T17:01:25.641113Z",
     "iopub.status.idle": "2022-09-11T17:01:25.656328Z",
     "shell.execute_reply": "2022-09-11T17:01:25.655418Z"
    },
    "papermill": {
     "duration": 0.039621,
     "end_time": "2022-09-11T17:01:25.658989",
     "exception": false,
     "start_time": "2022-09-11T17:01:25.619368",
     "status": "completed"
    },
    "tags": []
   },
   "outputs": [
    {
     "name": "stdout",
     "output_type": "stream",
     "text": [
      "F1_Score -> XGB CLassifier:  0.7486842105263158\n"
     ]
    }
   ],
   "source": [
    "print(\"F1_Score -> XGB CLassifier: \" ,xgb.score(X_test,y_test))"
   ]
  },
  {
   "cell_type": "code",
   "execution_count": null,
   "id": "6cbde209",
   "metadata": {
    "papermill": {
     "duration": 0.020243,
     "end_time": "2022-09-11T17:01:25.701784",
     "exception": false,
     "start_time": "2022-09-11T17:01:25.681541",
     "status": "completed"
    },
    "tags": []
   },
   "outputs": [],
   "source": []
  },
  {
   "cell_type": "markdown",
   "id": "5660ef28",
   "metadata": {
    "papermill": {
     "duration": 0.020205,
     "end_time": "2022-09-11T17:01:25.742750",
     "exception": false,
     "start_time": "2022-09-11T17:01:25.722545",
     "status": "completed"
    },
    "tags": []
   },
   "source": [
    "### 13. Bagging Combined with XG Boost"
   ]
  },
  {
   "cell_type": "code",
   "execution_count": 49,
   "id": "f01ebdb5",
   "metadata": {
    "execution": {
     "iopub.execute_input": "2022-09-11T17:01:25.786251Z",
     "iopub.status.busy": "2022-09-11T17:01:25.785826Z",
     "iopub.status.idle": "2022-09-11T17:01:43.536873Z",
     "shell.execute_reply": "2022-09-11T17:01:43.535796Z"
    },
    "papermill": {
     "duration": 17.776246,
     "end_time": "2022-09-11T17:01:43.539557",
     "exception": false,
     "start_time": "2022-09-11T17:01:25.763311",
     "status": "completed"
    },
    "tags": []
   },
   "outputs": [
    {
     "data": {
      "text/plain": [
       "BaggingClassifier(base_estimator=XGBClassifier(base_score=None, booster=None,\n",
       "                                               callbacks=None,\n",
       "                                               colsample_bylevel=None,\n",
       "                                               colsample_bynode=None,\n",
       "                                               colsample_bytree=None,\n",
       "                                               early_stopping_rounds=None,\n",
       "                                               enable_categorical=False,\n",
       "                                               eval_metric=None, gamma=None,\n",
       "                                               gpu_id=None, grow_policy=None,\n",
       "                                               importance_type=None,\n",
       "                                               interaction_constraints=None,\n",
       "                                               learning_rate=0.1, max_bin=None,\n",
       "                                               max_cat_to_onehot=None,\n",
       "                                               max_delta_step=None, max_depth=6,\n",
       "                                               max_leaves=None,\n",
       "                                               min_child_weight=None,\n",
       "                                               missing=nan,\n",
       "                                               monotone_constraints=None,\n",
       "                                               n_estimators=100, n_jobs=None,\n",
       "                                               num_parallel_tree=None,\n",
       "                                               predictor=None, random_state=42,\n",
       "                                               reg_alpha=None, reg_lambda=None, ...))"
      ]
     },
     "execution_count": 49,
     "metadata": {},
     "output_type": "execute_result"
    }
   ],
   "source": [
    "bag_xgb = BaggingClassifier(base_estimator= XGBClassifier(random_state=42,n_estimators=100,max_depth=6,learning_rate=0.1)) #Since SVC gave the best score till now\n",
    "bag_xgb.fit(X_train,y_train)"
   ]
  },
  {
   "cell_type": "code",
   "execution_count": 50,
   "id": "63a413f0",
   "metadata": {
    "execution": {
     "iopub.execute_input": "2022-09-11T17:01:43.583729Z",
     "iopub.status.busy": "2022-09-11T17:01:43.582587Z",
     "iopub.status.idle": "2022-09-11T17:01:43.654432Z",
     "shell.execute_reply": "2022-09-11T17:01:43.652912Z"
    },
    "papermill": {
     "duration": 0.096213,
     "end_time": "2022-09-11T17:01:43.656898",
     "exception": false,
     "start_time": "2022-09-11T17:01:43.560685",
     "status": "completed"
    },
    "tags": []
   },
   "outputs": [
    {
     "name": "stdout",
     "output_type": "stream",
     "text": [
      "F1_Score -> Bagging combined with XG Boost:  0.7513157894736842\n"
     ]
    }
   ],
   "source": [
    "print(\"F1_Score -> Bagging combined with XG Boost: \" ,bag_xgb.score(X_test,y_test))"
   ]
  },
  {
   "cell_type": "code",
   "execution_count": null,
   "id": "2e83d149",
   "metadata": {
    "papermill": {
     "duration": 0.020658,
     "end_time": "2022-09-11T17:01:43.700746",
     "exception": false,
     "start_time": "2022-09-11T17:01:43.680088",
     "status": "completed"
    },
    "tags": []
   },
   "outputs": [],
   "source": []
  },
  {
   "cell_type": "markdown",
   "id": "9fc1a6c7",
   "metadata": {
    "papermill": {
     "duration": 0.020758,
     "end_time": "2022-09-11T17:01:43.742547",
     "exception": false,
     "start_time": "2022-09-11T17:01:43.721789",
     "status": "completed"
    },
    "tags": []
   },
   "source": [
    "### 14. Adaboost Classifier"
   ]
  },
  {
   "cell_type": "code",
   "execution_count": 51,
   "id": "18245aa1",
   "metadata": {
    "execution": {
     "iopub.execute_input": "2022-09-11T17:01:43.786390Z",
     "iopub.status.busy": "2022-09-11T17:01:43.785657Z",
     "iopub.status.idle": "2022-09-11T17:01:44.640319Z",
     "shell.execute_reply": "2022-09-11T17:01:44.639417Z"
    },
    "papermill": {
     "duration": 0.879128,
     "end_time": "2022-09-11T17:01:44.642673",
     "exception": false,
     "start_time": "2022-09-11T17:01:43.763545",
     "status": "completed"
    },
    "tags": []
   },
   "outputs": [],
   "source": [
    "from sklearn.ensemble import AdaBoostClassifier\n",
    "adab = AdaBoostClassifier(n_estimators=50,base_estimator=RandomForestClassifier()).fit(X_train,y_train)"
   ]
  },
  {
   "cell_type": "code",
   "execution_count": 52,
   "id": "d7fbb682",
   "metadata": {
    "execution": {
     "iopub.execute_input": "2022-09-11T17:01:44.687167Z",
     "iopub.status.busy": "2022-09-11T17:01:44.686212Z",
     "iopub.status.idle": "2022-09-11T17:01:44.725573Z",
     "shell.execute_reply": "2022-09-11T17:01:44.724128Z"
    },
    "papermill": {
     "duration": 0.065317,
     "end_time": "2022-09-11T17:01:44.729268",
     "exception": false,
     "start_time": "2022-09-11T17:01:44.663951",
     "status": "completed"
    },
    "tags": []
   },
   "outputs": [
    {
     "name": "stdout",
     "output_type": "stream",
     "text": [
      "F1_Score -> AdaboostClassifier with RFC as base estimator:  0.7447368421052631\n"
     ]
    }
   ],
   "source": [
    "print(\"F1_Score -> AdaboostClassifier with RFC as base estimator: \" ,adab.score(X_test,y_test))"
   ]
  },
  {
   "cell_type": "markdown",
   "id": "8c947fd9",
   "metadata": {
    "papermill": {
     "duration": 0.021195,
     "end_time": "2022-09-11T17:01:44.772328",
     "exception": false,
     "start_time": "2022-09-11T17:01:44.751133",
     "status": "completed"
    },
    "tags": []
   },
   "source": [
    "### 15. GradBoost Classifier\n"
   ]
  },
  {
   "cell_type": "code",
   "execution_count": 53,
   "id": "d5260cba",
   "metadata": {
    "execution": {
     "iopub.execute_input": "2022-09-11T17:01:44.817334Z",
     "iopub.status.busy": "2022-09-11T17:01:44.816209Z",
     "iopub.status.idle": "2022-09-11T17:01:46.313171Z",
     "shell.execute_reply": "2022-09-11T17:01:46.312015Z"
    },
    "papermill": {
     "duration": 1.522144,
     "end_time": "2022-09-11T17:01:46.315873",
     "exception": false,
     "start_time": "2022-09-11T17:01:44.793729",
     "status": "completed"
    },
    "tags": []
   },
   "outputs": [
    {
     "data": {
      "text/plain": [
       "0.725"
      ]
     },
     "execution_count": 53,
     "metadata": {},
     "output_type": "execute_result"
    }
   ],
   "source": [
    "from sklearn.ensemble import  GradientBoostingClassifier\n",
    "\n",
    "clf = GradientBoostingClassifier(n_estimators=100, learning_rate=1.0,max_depth=1, random_state=0).fit(X_train, y_train)\n",
    "\n",
    "clf.score(X_test,y_test)"
   ]
  },
  {
   "cell_type": "code",
   "execution_count": null,
   "id": "83c1d4cf",
   "metadata": {
    "papermill": {
     "duration": 0.020289,
     "end_time": "2022-09-11T17:01:46.357232",
     "exception": false,
     "start_time": "2022-09-11T17:01:46.336943",
     "status": "completed"
    },
    "tags": []
   },
   "outputs": [],
   "source": []
  },
  {
   "cell_type": "markdown",
   "id": "4a293806",
   "metadata": {
    "papermill": {
     "duration": 0.020619,
     "end_time": "2022-09-11T17:01:46.398473",
     "exception": false,
     "start_time": "2022-09-11T17:01:46.377854",
     "status": "completed"
    },
    "tags": []
   },
   "source": [
    "#### Since the best score is obtained by XGBoost Classifier we will use it on our training set"
   ]
  },
  {
   "cell_type": "code",
   "execution_count": 54,
   "id": "842141bf",
   "metadata": {
    "execution": {
     "iopub.execute_input": "2022-09-11T17:01:46.441981Z",
     "iopub.status.busy": "2022-09-11T17:01:46.441153Z",
     "iopub.status.idle": "2022-09-11T17:01:46.446125Z",
     "shell.execute_reply": "2022-09-11T17:01:46.445370Z"
    },
    "papermill": {
     "duration": 0.029384,
     "end_time": "2022-09-11T17:01:46.448470",
     "exception": false,
     "start_time": "2022-09-11T17:01:46.419086",
     "status": "completed"
    },
    "tags": []
   },
   "outputs": [],
   "source": [
    "from xgboost import XGBClassifier"
   ]
  },
  {
   "cell_type": "code",
   "execution_count": 55,
   "id": "cfa359ba",
   "metadata": {
    "execution": {
     "iopub.execute_input": "2022-09-11T17:01:46.492433Z",
     "iopub.status.busy": "2022-09-11T17:01:46.491667Z",
     "iopub.status.idle": "2022-09-11T17:01:46.496978Z",
     "shell.execute_reply": "2022-09-11T17:01:46.496244Z"
    },
    "papermill": {
     "duration": 0.029865,
     "end_time": "2022-09-11T17:01:46.499283",
     "exception": false,
     "start_time": "2022-09-11T17:01:46.469418",
     "status": "completed"
    },
    "tags": []
   },
   "outputs": [],
   "source": [
    "params_xgb = {'n_estimators' : [100,150,200] , 'max_depth': [5,6,10],'learning_rate':[0.1,0.2,0.3,0.5]}"
   ]
  },
  {
   "cell_type": "code",
   "execution_count": 56,
   "id": "698f4f58",
   "metadata": {
    "execution": {
     "iopub.execute_input": "2022-09-11T17:01:46.543223Z",
     "iopub.status.busy": "2022-09-11T17:01:46.542457Z",
     "iopub.status.idle": "2022-09-11T17:01:46.547680Z",
     "shell.execute_reply": "2022-09-11T17:01:46.546916Z"
    },
    "papermill": {
     "duration": 0.03,
     "end_time": "2022-09-11T17:01:46.549935",
     "exception": false,
     "start_time": "2022-09-11T17:01:46.519935",
     "status": "completed"
    },
    "tags": []
   },
   "outputs": [],
   "source": [
    "xgb_gcv = GridSearchCV(XGBClassifier(random_state=42),param_grid=params_xgb,cv=5)"
   ]
  },
  {
   "cell_type": "code",
   "execution_count": 57,
   "id": "eaa22f7b",
   "metadata": {
    "execution": {
     "iopub.execute_input": "2022-09-11T17:01:46.593267Z",
     "iopub.status.busy": "2022-09-11T17:01:46.592855Z",
     "iopub.status.idle": "2022-09-11T17:01:46.597800Z",
     "shell.execute_reply": "2022-09-11T17:01:46.596667Z"
    },
    "papermill": {
     "duration": 0.029496,
     "end_time": "2022-09-11T17:01:46.600122",
     "exception": false,
     "start_time": "2022-09-11T17:01:46.570626",
     "status": "completed"
    },
    "tags": []
   },
   "outputs": [],
   "source": [
    "xgb2 = XGBClassifier(random_state=42,learning_rate=0.2, max_depth= 6, n_estimators=200)"
   ]
  },
  {
   "cell_type": "code",
   "execution_count": 58,
   "id": "6639db95",
   "metadata": {
    "execution": {
     "iopub.execute_input": "2022-09-11T17:01:46.644366Z",
     "iopub.status.busy": "2022-09-11T17:01:46.643607Z",
     "iopub.status.idle": "2022-09-11T17:01:49.888701Z",
     "shell.execute_reply": "2022-09-11T17:01:49.887752Z"
    },
    "papermill": {
     "duration": 3.269967,
     "end_time": "2022-09-11T17:01:49.891045",
     "exception": false,
     "start_time": "2022-09-11T17:01:46.621078",
     "status": "completed"
    },
    "tags": []
   },
   "outputs": [
    {
     "data": {
      "text/plain": [
       "XGBClassifier(base_score=0.5, booster='gbtree', callbacks=None,\n",
       "              colsample_bylevel=1, colsample_bynode=1, colsample_bytree=1,\n",
       "              early_stopping_rounds=None, enable_categorical=False,\n",
       "              eval_metric=None, gamma=0, gpu_id=-1, grow_policy='depthwise',\n",
       "              importance_type=None, interaction_constraints='',\n",
       "              learning_rate=0.2, max_bin=256, max_cat_to_onehot=4,\n",
       "              max_delta_step=0, max_depth=6, max_leaves=0, min_child_weight=1,\n",
       "              missing=nan, monotone_constraints='()', n_estimators=200,\n",
       "              n_jobs=0, num_parallel_tree=1, objective='multi:softprob',\n",
       "              predictor='auto', random_state=42, reg_alpha=0, ...)"
      ]
     },
     "execution_count": 58,
     "metadata": {},
     "output_type": "execute_result"
    }
   ],
   "source": [
    "xgb2.fit(X_train,y_train)"
   ]
  },
  {
   "cell_type": "code",
   "execution_count": 59,
   "id": "6b255b8f",
   "metadata": {
    "execution": {
     "iopub.execute_input": "2022-09-11T17:01:49.935427Z",
     "iopub.status.busy": "2022-09-11T17:01:49.935018Z",
     "iopub.status.idle": "2022-09-11T17:01:49.971220Z",
     "shell.execute_reply": "2022-09-11T17:01:49.969981Z"
    },
    "papermill": {
     "duration": 0.061062,
     "end_time": "2022-09-11T17:01:49.973747",
     "exception": false,
     "start_time": "2022-09-11T17:01:49.912685",
     "status": "completed"
    },
    "tags": []
   },
   "outputs": [
    {
     "data": {
      "text/plain": [
       "0.9470495258166491"
      ]
     },
     "execution_count": 59,
     "metadata": {},
     "output_type": "execute_result"
    }
   ],
   "source": [
    "xgb2.score(X_new,y)"
   ]
  },
  {
   "cell_type": "code",
   "execution_count": 60,
   "id": "042108d9",
   "metadata": {
    "execution": {
     "iopub.execute_input": "2022-09-11T17:01:50.020444Z",
     "iopub.status.busy": "2022-09-11T17:01:50.020048Z",
     "iopub.status.idle": "2022-09-11T17:01:50.074559Z",
     "shell.execute_reply": "2022-09-11T17:01:50.073680Z"
    },
    "papermill": {
     "duration": 0.080164,
     "end_time": "2022-09-11T17:01:50.077052",
     "exception": false,
     "start_time": "2022-09-11T17:01:49.996888",
     "status": "completed"
    },
    "tags": []
   },
   "outputs": [],
   "source": [
    "y_pred=rfc.predict(data_test_new)"
   ]
  },
  {
   "cell_type": "code",
   "execution_count": null,
   "id": "5ead0c5f",
   "metadata": {
    "papermill": {
     "duration": 0.020787,
     "end_time": "2022-09-11T17:01:50.119066",
     "exception": false,
     "start_time": "2022-09-11T17:01:50.098279",
     "status": "completed"
    },
    "tags": []
   },
   "outputs": [],
   "source": []
  },
  {
   "cell_type": "code",
   "execution_count": 61,
   "id": "3dac63b7",
   "metadata": {
    "execution": {
     "iopub.execute_input": "2022-09-11T17:01:50.164240Z",
     "iopub.status.busy": "2022-09-11T17:01:50.162936Z",
     "iopub.status.idle": "2022-09-11T17:01:50.171336Z",
     "shell.execute_reply": "2022-09-11T17:01:50.170130Z"
    },
    "papermill": {
     "duration": 0.033038,
     "end_time": "2022-09-11T17:01:50.173590",
     "exception": false,
     "start_time": "2022-09-11T17:01:50.140552",
     "status": "completed"
    },
    "tags": []
   },
   "outputs": [
    {
     "data": {
      "text/plain": [
       "(array([0, 1, 2]), array([490, 999, 139]))"
      ]
     },
     "execution_count": 61,
     "metadata": {},
     "output_type": "execute_result"
    }
   ],
   "source": [
    "import numpy as np\n",
    "np.unique(y_pred,return_counts=True)"
   ]
  },
  {
   "cell_type": "code",
   "execution_count": 62,
   "id": "39e6a09a",
   "metadata": {
    "execution": {
     "iopub.execute_input": "2022-09-11T17:01:50.218043Z",
     "iopub.status.busy": "2022-09-11T17:01:50.217527Z",
     "iopub.status.idle": "2022-09-11T17:01:50.230584Z",
     "shell.execute_reply": "2022-09-11T17:01:50.229273Z"
    },
    "papermill": {
     "duration": 0.038162,
     "end_time": "2022-09-11T17:01:50.233137",
     "exception": false,
     "start_time": "2022-09-11T17:01:50.194975",
     "status": "completed"
    },
    "tags": []
   },
   "outputs": [],
   "source": [
    "data_test['label']=y_pred\n",
    "col1=data_test['id'].to_numpy()\n",
    "col2=data_test['label'].to_numpy()\n",
    "dataf=np.column_stack((col1,col2))\n",
    "\n",
    "pd.DataFrame(dataf, columns=['id','label']).to_csv('submission8.csv',index=False)"
   ]
  },
  {
   "cell_type": "code",
   "execution_count": 63,
   "id": "0432d74b",
   "metadata": {
    "execution": {
     "iopub.execute_input": "2022-09-11T17:01:50.278638Z",
     "iopub.status.busy": "2022-09-11T17:01:50.277939Z",
     "iopub.status.idle": "2022-09-11T17:01:50.283315Z",
     "shell.execute_reply": "2022-09-11T17:01:50.282165Z"
    },
    "papermill": {
     "duration": 0.030914,
     "end_time": "2022-09-11T17:01:50.285578",
     "exception": false,
     "start_time": "2022-09-11T17:01:50.254664",
     "status": "completed"
    },
    "tags": []
   },
   "outputs": [],
   "source": [
    "import os"
   ]
  },
  {
   "cell_type": "code",
   "execution_count": 64,
   "id": "1474c0f7",
   "metadata": {
    "execution": {
     "iopub.execute_input": "2022-09-11T17:01:50.329674Z",
     "iopub.status.busy": "2022-09-11T17:01:50.329274Z",
     "iopub.status.idle": "2022-09-11T17:01:50.335102Z",
     "shell.execute_reply": "2022-09-11T17:01:50.334335Z"
    },
    "papermill": {
     "duration": 0.030405,
     "end_time": "2022-09-11T17:01:50.337164",
     "exception": false,
     "start_time": "2022-09-11T17:01:50.306759",
     "status": "completed"
    },
    "tags": []
   },
   "outputs": [
    {
     "data": {
      "text/plain": [
       "'/kaggle/working'"
      ]
     },
     "execution_count": 64,
     "metadata": {},
     "output_type": "execute_result"
    }
   ],
   "source": [
    "pwd"
   ]
  },
  {
   "cell_type": "code",
   "execution_count": 65,
   "id": "21ae2f75",
   "metadata": {
    "execution": {
     "iopub.execute_input": "2022-09-11T17:01:50.381720Z",
     "iopub.status.busy": "2022-09-11T17:01:50.381339Z",
     "iopub.status.idle": "2022-09-11T17:01:51.516604Z",
     "shell.execute_reply": "2022-09-11T17:01:51.515362Z"
    },
    "papermill": {
     "duration": 1.160479,
     "end_time": "2022-09-11T17:01:51.519073",
     "exception": false,
     "start_time": "2022-09-11T17:01:50.358594",
     "status": "completed"
    },
    "tags": []
   },
   "outputs": [
    {
     "name": "stdout",
     "output_type": "stream",
     "text": [
      "__notebook__.ipynb  submission8.csv\r\n"
     ]
    }
   ],
   "source": [
    "ls"
   ]
  },
  {
   "cell_type": "code",
   "execution_count": 66,
   "id": "22df8491",
   "metadata": {
    "execution": {
     "iopub.execute_input": "2022-09-11T17:01:51.564744Z",
     "iopub.status.busy": "2022-09-11T17:01:51.563640Z",
     "iopub.status.idle": "2022-09-11T17:01:51.570764Z",
     "shell.execute_reply": "2022-09-11T17:01:51.569953Z"
    },
    "papermill": {
     "duration": 0.032253,
     "end_time": "2022-09-11T17:01:51.572897",
     "exception": false,
     "start_time": "2022-09-11T17:01:51.540644",
     "status": "completed"
    },
    "tags": []
   },
   "outputs": [
    {
     "data": {
      "text/html": [
       "<a href='submission8.csv' target='_blank'>submission8.csv</a><br>"
      ],
      "text/plain": [
       "/kaggle/working/submission8.csv"
      ]
     },
     "execution_count": 66,
     "metadata": {},
     "output_type": "execute_result"
    }
   ],
   "source": [
    "from IPython.display import FileLink\n",
    "FileLink(r'submission8.csv')"
   ]
  },
  {
   "cell_type": "code",
   "execution_count": null,
   "id": "92d62468",
   "metadata": {
    "papermill": {
     "duration": 0.021298,
     "end_time": "2022-09-11T17:01:51.616254",
     "exception": false,
     "start_time": "2022-09-11T17:01:51.594956",
     "status": "completed"
    },
    "tags": []
   },
   "outputs": [],
   "source": []
  }
 ],
 "metadata": {
  "kernelspec": {
   "display_name": "Python 3",
   "language": "python",
   "name": "python3"
  },
  "language_info": {
   "codemirror_mode": {
    "name": "ipython",
    "version": 3
   },
   "file_extension": ".py",
   "mimetype": "text/x-python",
   "name": "python",
   "nbconvert_exporter": "python",
   "pygments_lexer": "ipython3",
   "version": "3.7.12"
  },
  "papermill": {
   "default_parameters": {},
   "duration": 88.580983,
   "end_time": "2022-09-11T17:01:52.461313",
   "environment_variables": {},
   "exception": null,
   "input_path": "__notebook__.ipynb",
   "output_path": "__notebook__.ipynb",
   "parameters": {},
   "start_time": "2022-09-11T17:00:23.880330",
   "version": "2.3.4"
  }
 },
 "nbformat": 4,
 "nbformat_minor": 5
}
